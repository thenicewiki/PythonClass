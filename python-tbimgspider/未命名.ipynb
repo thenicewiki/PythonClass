{
 "cells": [
  {
   "cell_type": "code",
   "execution_count": 22,
   "metadata": {},
   "outputs": [
    {
     "name": "stdout",
     "output_type": "stream",
     "text": [
      "https://tieba.baidu.com/p/5080413304\n",
      "https://tieba.baidu.com/p/5080413304\n",
      "https://tieba.baidu.com/p/5080413304\n",
      "https://tieba.baidu.com/p/5080413304\n",
      "https://tieba.baidu.com/p/5080413304\n",
      "https://tieba.baidu.com/p/5080413304\n",
      "https://tieba.baidu.com/p/5080413304\n",
      "https://tieba.baidu.com/p/5080413304\n",
      "https://tieba.baidu.com/p/5080413304\n",
      "https://tieba.baidu.com/p/5080413304\n",
      "\n"
     ]
    },
    {
     "data": {
      "text/plain": [
       "['https://tieba.baidu.com/p/5080413304',\n",
       " 'https://tieba.baidu.com/p/5080413304',\n",
       " 'https://tieba.baidu.com/p/5080413304',\n",
       " 'https://tieba.baidu.com/p/5080413304',\n",
       " 'https://tieba.baidu.com/p/5080413304',\n",
       " 'https://tieba.baidu.com/p/5080413304',\n",
       " 'https://tieba.baidu.com/p/5080413304',\n",
       " 'https://tieba.baidu.com/p/5080413304',\n",
       " 'https://tieba.baidu.com/p/5080413304',\n",
       " 'https://tieba.baidu.com/p/5080413304']"
      ]
     },
     "execution_count": 22,
     "metadata": {},
     "output_type": "execute_result"
    }
   ],
   "source": [
    "import re\n",
    "\n",
    "# links = \"https://tieba.baidu.com/p/5080409j304,https://tieba.baidu.com/p/5080413304,https://tieba.baidu.com/p/5080413304,https://tieba.baidu.com/p/5080413304,https://tieba.baidu.com/p/5080413304,\"\n",
    "# link = \"https://tieba.baidu.com/p/5080413304?pn=1\" # 页码\n",
    "url = []\n",
    "\n",
    "fo = open(\"hello.txt\", \"r+\")\n",
    "links = fo.read()\n",
    "\n",
    "fo.close()\n",
    "\n",
    "html = links\n",
    "print(html)\n",
    "url = re.findall(\"(https.+?)\\s\", html)\n",
    "\n",
    "url"
   ]
  },
  {
   "cell_type": "code",
   "execution_count": null,
   "metadata": {},
   "outputs": [],
   "source": []
  },
  {
   "cell_type": "code",
   "execution_count": 2,
   "metadata": {},
   "outputs": [
    {
     "data": {
      "text/plain": [
       "5.0"
      ]
     },
     "execution_count": 2,
     "metadata": {},
     "output_type": "execute_result"
    }
   ],
   "source": [
    "10 / 2"
   ]
  },
  {
   "cell_type": "code",
   "execution_count": 15,
   "metadata": {},
   "outputs": [
    {
     "data": {
      "text/plain": [
       "['2', '2', '2', '5', '5', '5']"
      ]
     },
     "execution_count": 15,
     "metadata": {},
     "output_type": "execute_result"
    }
   ],
   "source": [
    "\n",
    "lst = []\n",
    "n = 1000\n",
    "while n > 1:\n",
    "    for i in range(2, n+1):\n",
    "        if n%i==0:\n",
    "            n//=i\n",
    "            lst.append(str(i))\n",
    "            break\n",
    "            \n",
    "lst"
   ]
  },
  {
   "cell_type": "code",
   "execution_count": 13,
   "metadata": {},
   "outputs": [
    {
     "ename": "KeyboardInterrupt",
     "evalue": "",
     "output_type": "error",
     "traceback": [
      "\u001b[0;31m---------------------------------------------------------------------------\u001b[0m",
      "\u001b[0;31mKeyboardInterrupt\u001b[0m                         Traceback (most recent call last)",
      "\u001b[0;32m<ipython-input-13-e7952c0fd355>\u001b[0m in \u001b[0;36m<module>\u001b[0;34m\u001b[0m\n\u001b[1;32m      3\u001b[0m \u001b[0mi\u001b[0m \u001b[0;34m=\u001b[0m \u001b[0;36m2\u001b[0m\u001b[0;34m\u001b[0m\u001b[0;34m\u001b[0m\u001b[0m\n\u001b[1;32m      4\u001b[0m \u001b[0;32mwhile\u001b[0m \u001b[0mnum\u001b[0m \u001b[0;34m>\u001b[0m \u001b[0;36m1\u001b[0m\u001b[0;34m:\u001b[0m\u001b[0;34m\u001b[0m\u001b[0;34m\u001b[0m\u001b[0m\n\u001b[0;32m----> 5\u001b[0;31m     \u001b[0;32mif\u001b[0m \u001b[0mnum\u001b[0m \u001b[0;34m%\u001b[0m \u001b[0mi\u001b[0m \u001b[0;34m==\u001b[0m \u001b[0;36m0\u001b[0m\u001b[0;34m:\u001b[0m\u001b[0;34m\u001b[0m\u001b[0;34m\u001b[0m\u001b[0m\n\u001b[0m\u001b[1;32m      6\u001b[0m         \u001b[0mlst\u001b[0m\u001b[0;34m.\u001b[0m\u001b[0mappend\u001b[0m\u001b[0;34m(\u001b[0m\u001b[0mi\u001b[0m\u001b[0;34m)\u001b[0m\u001b[0;34m\u001b[0m\u001b[0;34m\u001b[0m\u001b[0m\n\u001b[1;32m      7\u001b[0m         \u001b[0mnum\u001b[0m \u001b[0;34m/=\u001b[0m \u001b[0mi\u001b[0m\u001b[0;34m\u001b[0m\u001b[0;34m\u001b[0m\u001b[0m\n",
      "\u001b[0;31mKeyboardInterrupt\u001b[0m: "
     ]
    }
   ],
   "source": [
    "num = 10000000000000000000000000000000\n",
    "lst = []\n",
    "i = 2\n",
    "while num > 1:\n",
    "    if num % i == 0:\n",
    "        lst.append(i)\n",
    "        num /= i\n",
    "    else:\n",
    "        i+=1\n",
    "        \n",
    "lst"
   ]
  },
  {
   "cell_type": "code",
   "execution_count": null,
   "metadata": {},
   "outputs": [],
   "source": []
  }
 ],
 "metadata": {
  "kernelspec": {
   "display_name": "Python 3",
   "language": "python",
   "name": "python3"
  },
  "language_info": {
   "codemirror_mode": {
    "name": "ipython",
    "version": 3
   },
   "file_extension": ".py",
   "mimetype": "text/x-python",
   "name": "python",
   "nbconvert_exporter": "python",
   "pygments_lexer": "ipython3",
   "version": "3.9.0"
  }
 },
 "nbformat": 4,
 "nbformat_minor": 4
}
